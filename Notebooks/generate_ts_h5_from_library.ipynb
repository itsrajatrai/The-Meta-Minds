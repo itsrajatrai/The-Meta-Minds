{
 "cells": [
  {
   "cell_type": "markdown",
   "metadata": {},
   "source": [
    "# Generate TimeSeries H5 from Library Profile to import in Web GUI\n",
    "\n",
    "\n",
    "TVB has the custom notion of \"profile\". Based on the selected TVB profile, we enable/disable some TVB modules and default features (storage, load defaults).\n",
    "\n",
    "We make a clear distinction between running TVB under WEB_PROFILE or LIBRARY_PROFILE.\n",
    "\n",
    "Currently it is not possible to switch in the same code from one TVB profile to another, but it is  possible to share data, as described in the current demo. \n",
    "\n",
    "You can find more info about TVB profiles here: http://docs.thevirtualbrain.org/manuals/UserGuide/UserGuide-Shell.html#tvb-profiles"
   ]
  },
  {
   "cell_type": "markdown",
   "metadata": {},
   "source": [
    "## Step 1\n",
    "\n",
    "Let us start by running a standard TVB simulation, with the LIBRARY_PROFILE \n",
    "(from tvb.simulator.lab import * will set the LIBRARY_PROFILE)."
   ]
  },
  {
   "cell_type": "code",
   "execution_count": 1,
   "metadata": {},
   "outputs": [],
   "source": [
    "%matplotlib widget\n",
    "from tvb.simulator.lab import *\n",
    "from tvb.datatypes import time_series\n",
    "from tvb.basic.config import settings\n",
    "import numpy as np"
   ]
  },
  {
   "cell_type": "code",
   "execution_count": null,
   "metadata": {},
   "outputs": [],
   "source": [
    "jrm = models.JansenRit(mu=np.array([0.]), v0=np.array([6.]))\n",
    "monitor = monitors.TemporalAverage(period=2 ** -2)\n",
    "\n",
    "# the other aspects of the simulator are standard\n",
    "sim = simulator.Simulator(\n",
    "    model=jrm,\n",
    "    connectivity=connectivity.Connectivity.from_file(),\n",
    "    coupling=coupling.SigmoidalJansenRit(a=np.array([10.0])),\n",
    "    monitors=(monitor,),\n",
    "    simulation_length=1e3,\n",
    ").configure()\n",
    "\n",
    "# run it\n",
    "(time_array, data_array), = sim.run()"
   ]
  },
  {
   "cell_type": "markdown",
   "metadata": {},
   "source": [
    "## Step 2\n",
    "\n",
    "write the simulation result in a H5 file."
   ]
  },
  {
   "cell_type": "code",
   "execution_count": 3,
   "metadata": {},
   "outputs": [
    {
     "data": {
      "text/plain": [
       "<DataType(None, b5c085cf60874c67b64b7662a688f904, TimeSeriesIndex, tvb.adapters.datatypes.db.time_series, , , None, , , , , )>"
      ]
     },
     "execution_count": 3,
     "metadata": {},
     "output_type": "execute_result"
    }
   ],
   "source": [
    "from tvb.core.neocom import h5\n",
    "from tvb.basic.profile import TvbProfile\n",
    "\n",
    "TvbProfile.set_profile(TvbProfile.COMMAND_PROFILE)\n",
    "\n",
    "series_of_time = time_series.TimeSeries(data=data_array, time=time_array, sample_period=monitor.period)\n",
    "h5.store_complete_to_dir(series_of_time, \".\")"
   ]
  },
  {
   "cell_type": "markdown",
   "metadata": {},
   "source": [
    "Now you should have a file named \"TimeSeriesRegion.......h5\" in the current folder where ipython notebook has been launched. \n",
    "\n",
    "You can take this \"TimeSeriesRegion.h5\" file and import it into TVB web GUI, as described here:\n",
    "http://docs.thevirtualbrain.org/manuals/UserGuide/UserGuide-UI_Project.html#data-structure\n",
    "\n",
    "After import in TVB web GUI, you will have a new TimeSeriesRegion file in your current project, which can be used with TVB web visualizers.\n",
    "\n"
   ]
  }
 ],
 "metadata": {
  "kernelspec": {
   "display_name": "Python 3 (ipykernel)",
   "language": "python",
   "name": "python3"
  },
  "language_info": {
   "codemirror_mode": {
    "name": "ipython",
    "version": 3
   },
   "file_extension": ".py",
   "mimetype": "text/x-python",
   "name": "python",
   "nbconvert_exporter": "python",
   "pygments_lexer": "ipython3",
   "version": "3.7.12"
  }
 },
 "nbformat": 4,
 "nbformat_minor": 4
}
