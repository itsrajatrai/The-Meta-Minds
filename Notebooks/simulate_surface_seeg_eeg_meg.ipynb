{
 "cells": [
  {
   "cell_type": "code",
   "execution_count": null,
   "metadata": {},
   "outputs": [],
   "source": [
    "%pylab nbagg\n",
    "from tvb.simulator.lab import *"
   ]
  },
  {
   "cell_type": "markdown",
   "metadata": {},
   "source": [
    "# Simulate cortical surface with s/M/EEG forward solutions\n",
    "\n",
    "Cortical surface with subcortical regions, sEEG, EEG & MEG, using a stochastic\n",
    "integration."
   ]
  },
  {
   "cell_type": "code",
   "execution_count": null,
   "metadata": {},
   "outputs": [],
   "source": [
    "from tvb.datatypes.cortex import Cortex\n",
    "from tvb.datatypes.region_mapping import RegionMapping\n",
    "from tvb.datatypes.projections import ProjectionMatrix, ProjectionSurfaceEEG\n",
    "from tvb.datatypes.sensors import SensorsEEG\n",
    "\n",
    "oscillator = models.Generic2dOscillator(a=numpy.array([0.1]), tau=numpy.array([2.0]))\n",
    "\n",
    "white_matter = connectivity.Connectivity.from_file('connectivity_192.zip')\n",
    "white_matter.speed = numpy.array([4.0])\n",
    "white_matter_coupling = coupling.Difference(a=numpy.array([0.014]))\n",
    "\n",
    "rm_f_name = 'regionMapping_16k_192.txt'\n",
    "rm = RegionMapping.from_file(rm_f_name)\n",
    "sensorsEEG = SensorsEEG.from_file('eeg_unitvector_62.txt.bz2')\n",
    "prEEG = ProjectionSurfaceEEG.from_file('projection_eeg_62_surface_16k.mat', matlab_data_name=\"ProjectionMatrix\")\n",
    "\n",
    "heunint = integrators.HeunStochastic(\n",
    "    dt=2**-4,\n",
    "    noise=noise.Additive(nsig=numpy.array([2 ** -5, ]))\n",
    ")\n",
    "\n",
    "fsamp = 1e3/1024.0 # 1024 Hz\n",
    "# See shown here 3 different ways of configuring monitors.\n",
    "# These methods are available for all projection monitors\n",
    "monitor_MEG=monitors.MEG.from_file(rm_f_name=rm_f_name)\n",
    "monitor_MEG.period=fsamp\n",
    "mons = (\n",
    "    monitors.EEG(sensors=sensorsEEG, projection=prEEG, region_mapping=rm, period=fsamp),\n",
    "    monitor_MEG,\n",
    "    monitors.iEEG.from_file('seeg_588.txt', 'projection_seeg_588_surface_16k.npy', rm_f_name=rm_f_name, period=fsamp),\n",
    "    monitors.ProgressLogger(period=100.0),\n",
    ")\n",
    "\n",
    "local_coupling_strength = numpy.array([2 ** -10])\n",
    "default_cortex = Cortex.from_file(region_mapping_file='regionMapping_16k_192.txt')\n",
    "default_cortex.region_mapping_data.connectivity = white_matter\n",
    "default_cortex.coupling_strength = local_coupling_strength\n",
    "\n",
    "sim = simulator.Simulator(\n",
    "    model=oscillator,\n",
    "    connectivity=white_matter,\n",
    "    coupling=white_matter_coupling,\n",
    "    integrator=heunint,\n",
    "    monitors=mons,\n",
    "    surface=default_cortex,\n",
    "    simulation_length=10.0\n",
    ")\n",
    "sim.configure()\n",
    "\n",
    "eeg, meg, seeg, _ = sim.run()"
   ]
  },
  {
   "cell_type": "code",
   "execution_count": null,
   "metadata": {},
   "outputs": [],
   "source": [
    "figure()\n",
    "\n",
    "for i, mon in enumerate((eeg, meg, seeg)):\n",
    "    subplot(3, 1, i + 1)\n",
    "    time, data = mon\n",
    "    plot(time, data[:, 0, :, 0], 'k', alpha=0.1)\n",
    "    ylabel(['EEG', 'MEG', 'sEEG'][i])\n",
    "\n",
    "tight_layout()"
   ]
  },
  {
   "cell_type": "code",
   "execution_count": null,
   "metadata": {},
   "outputs": [],
   "source": []
  }
 ],
 "metadata": {
  "kernelspec": {
   "display_name": "Python 3",
   "language": "python",
   "name": "python3"
  },
  "language_info": {
   "codemirror_mode": {
    "name": "ipython",
    "version": 3
   },
   "file_extension": ".py",
   "mimetype": "text/x-python",
   "name": "python",
   "nbconvert_exporter": "python",
   "pygments_lexer": "ipython3",
   "version": "3.7.6"
  }
 },
 "nbformat": 4,
 "nbformat_minor": 4
}
