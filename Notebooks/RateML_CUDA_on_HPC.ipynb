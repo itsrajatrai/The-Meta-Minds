{
 "cells": [
  {
   "cell_type": "markdown",
   "metadata": {},
   "source": [
    "# RateML\n",
    "\n",
    "### Using RateML to generate a CUDA model file and Pyunicore to excute parameter sweeps on HPC cluster"
   ]
  },
  {
   "cell_type": "code",
   "execution_count": null,
   "metadata": {},
   "outputs": [],
   "source": [
    "# !git clone https://github.com/DeLaVlag/tvb-root.git\n",
    "from IPython.display import Markdown, display, Code"
   ]
  },
  {
   "cell_type": "code",
   "execution_count": null,
   "metadata": {},
   "outputs": [],
   "source": [
    "import os\n",
    "# install tvb-library\n",
    "os.chdir(\"/mnt/user/drive/Shared with groups/RateML TVB/tvb-root/scientific_library/\")\n",
    "!python setup.py install\n",
    "# os.chdir(\"/mnt/user/drive/Shared with groups/RateML TVB/tvb-root/tvb_bin/\")\n",
    "# install tvb-bin\n",
    "# !python setup.py install\n",
    "# install tvb-data\n",
    "# ! pip install tvb-data\n",
    "# os.chdir(\"/mnt/user/drive/Shared with groups/RateML TVB/\")"
   ]
  },
  {
   "cell_type": "markdown",
   "metadata": {},
   "source": [
    "## Building a model\n",
    "Building rate based models in RateML, start by creating an XML model file. To understand which constructs can be used to build the model, one should take a closer look at the README file. The cell below will prints the latest README file from the repository. Every construct which can be used, is explained."
   ]
  },
  {
   "cell_type": "code",
   "execution_count": null,
   "metadata": {},
   "outputs": [],
   "source": [
    "mdfile = open(\"tvb-root/scientific_library/tvb/rateML/README.md\",\"r\")\n",
    "model = mdfile.read()\n",
    "display(Markdown(model))\n",
    "mdfile.close()"
   ]
  },
  {
   "cell_type": "markdown",
   "metadata": {},
   "source": [
    "## Generate a model\n",
    "After reading the README, one should be able to build an XML model file. Lets use the relatively small Kuramoto model as an example. \n",
    "Your model should look like similar to the Kuramoto python file and define some constants, an exposure and dynamics behavior. The dynamics for the Kuramoto consist of a state variable, a derived variable and a time derivative. Except for the derived variable, there are the construct that a RateML XML model file should contain. The template: tvb-root/scientific_library/tvb/rateML/XMLmodels/model_template.xml is an empty template which can be used to create a model XML file."
   ]
  },
  {
   "cell_type": "code",
   "execution_count": null,
   "metadata": {},
   "outputs": [],
   "source": [
    "# Open the Kuramoto model\n",
    "model_filename = \"kuramoto\"\n",
    "model_location = \"tvb-root/scientific_library/tvb/rateML/XMLmodels/\"+model_filename+\".xml\"\n",
    "!pwd\n",
    "xmlfile = open(model_location,\"r\")\n",
    "model = xmlfile.read()\n",
    "display(Markdown(model))\n",
    "xmlfile.close()"
   ]
  },
  {
   "cell_type": "markdown",
   "metadata": {},
   "source": [
    "## Generating the model code\n",
    "\n",
    "We will call the templating function in order to automatically generate the model code.\n",
    "In XML2model.py the class \n",
    "```python\n",
    "RateML('model_filename', language=('python' | 'cuda'), 'path/to/your/XMLmodels', 'path/to/your/generatedModels')\n",
    "``` \n",
    "will start the code generation."
   ]
  },
  {
   "cell_type": "code",
   "execution_count": 2,
   "metadata": {},
   "outputs": [
    {
     "name": "stdout",
     "output_type": "stream",
     "text": [
      "2020-12-02 12:07:37,556 - INFO - tvb.rateML.XML2model - True validation of tvb-root/scientific_library/tvb/rateML/XMLmodels/kuramoto.xml against https://raw.githubusercontent.com/DeLaVlag/tvb-root/xsdvalidation/scientific_library/tvb/rateML/rML_v0.xsd\n"
     ]
    },
    {
     "data": {
      "text/plain": [
       "<tvb.rateML.XML2model.RateML at 0x7f09106313c8>"
      ]
     },
     "execution_count": 2,
     "metadata": {},
     "output_type": "execute_result"
    }
   ],
   "source": [
    "from tvb.rateML.XML2model import RateML\n",
    "\n",
    "# some preexisting examples:\n",
    "# model_filename = 'montbrio'\n",
    "# model_filename = 'oscillator'\n",
    "model_filename = 'kuramoto'\n",
    "# model_filename = 'rwongwang'\n",
    "# model_filename = 'epileptor'\n",
    "language = \"cuda\"\n",
    "XMLin = \"tvb-root/scientific_library/tvb/rateML/XMLmodels/\"\n",
    "GenModOut = \"tvb-root/scientific_library/tvb/rateML/generatedModels/\"\n",
    "RateML(model_filename, language, XMLin, GenModOut)"
   ]
  },
  {
   "cell_type": "code",
   "execution_count": null,
   "metadata": {},
   "outputs": [],
   "source": [
    "from IPython.display import Markdown, display, Code\n",
    "# Open the generated model\n",
    "model_location = \"tvb-root/scientific_library/tvb/rateML/generatedModels/\"+model_filename+\".c\"\n",
    "genModFile = open(model_location,\"r\")\n",
    "model = genModFile.read()\n",
    "display(Code(model, language='c'))\n",
    "# display(Markdown(model))\n",
    "genModFile.close()"
   ]
  },
  {
   "cell_type": "markdown",
   "metadata": {},
   "source": [
    "## Simulating the result\n",
    "If the model displays all its features to your whishes, it is time to take her for a spin on a GPU. The sites that are able to run the models are the JUSUF and JUWELS clusters from Forschungszentrum Juelich. This will only work if you have an LDAP account for these clusters and you are registered in the PyUnicore database. If you dont have access any other CUDA enabled GPU will run your generated model, using \\_\\_main\\_\\_.py in rateML/run/ folder ."
   ]
  },
  {
   "cell_type": "markdown",
   "metadata": {},
   "source": [
    "### Setup PyUnicore"
   ]
  },
  {
   "cell_type": "code",
   "execution_count": 3,
   "metadata": {},
   "outputs": [],
   "source": [
    "# !pip install pyunicore --upgrade\n",
    "import pyunicore.client as unicore_client\n",
    "import json\n",
    "import os"
   ]
  },
  {
   "cell_type": "code",
   "execution_count": 4,
   "metadata": {},
   "outputs": [
    {
     "name": "stdout",
     "output_type": "stream",
     "text": [
      "2020-12-02 12:07:48,180 - DEBUG - urllib3.connectionpool - Starting new HTTP connection (1): jupyterhub:8080\n",
      "2020-12-02 12:07:48,251 - DEBUG - urllib3.connectionpool - http://jupyterhub:8080 \"GET /services/access-token-service/access-token HTTP/1.1\" 200 1475\n",
      "2020-12-02 12:07:48,256 - DEBUG - urllib3.connectionpool - Starting new HTTPS connection (1): hbp-unic.fz-juelich.de:7112\n",
      "2020-12-02 12:07:48,431 - DEBUG - urllib3.connectionpool - https://hbp-unic.fz-juelich.de:7112 \"GET /HBP/rest/registries/default_registry HTTP/1.1\" 200 None\n",
      "2020-12-02 12:07:48,451 - DEBUG - urllib3.connectionpool - Starting new HTTPS connection (1): zam2125.zam.kfa-juelich.de:9112\n",
      "2020-12-02 12:07:50,000 - DEBUG - urllib3.connectionpool - https://zam2125.zam.kfa-juelich.de:9112 \"GET /JUWELS/rest/core HTTP/1.1\" 200 6972\n"
     ]
    }
   ],
   "source": [
    "token = clb_oauth.get_token()\n",
    "tr = unicore_client.Transport(token)\n",
    "r = unicore_client.Registry(tr, unicore_client._HBP_REGISTRY_URL)\n",
    "# r.site_urls\n",
    "# HPC_LOC = \"https://zam2125.zam.kfa-juelich.de:9112/JUSUF/rest/core\"\n",
    "HPC_LOC = 'https://zam2125.zam.kfa-juelich.de:9112/JUWELS/rest/core'\n",
    "site = unicore_client.Client(transport=tr,site_url=HPC_LOC)"
   ]
  },
  {
   "cell_type": "markdown",
   "metadata": {},
   "source": [
    "### Transfer model\n",
    "Transfer the generated model file to JUSUF."
   ]
  },
  {
   "cell_type": "code",
   "execution_count": 5,
   "metadata": {},
   "outputs": [
    {
     "name": "stdout",
     "output_type": "stream",
     "text": [
      "2020-12-02 12:07:58,590 - DEBUG - urllib3.connectionpool - Starting new HTTPS connection (1): zam2125.zam.kfa-juelich.de:9112\n",
      "2020-12-02 12:08:00,108 - DEBUG - urllib3.connectionpool - https://zam2125.zam.kfa-juelich.de:9112 \"PUT /JUWELS/rest/core/storages/PROJECT/files/wikicollab/RateML/kuramoto.c HTTP/1.1\" 204 0\n"
     ]
    }
   ],
   "source": [
    "base_url = HPC_LOC + \"/storages/PROJECT/\"\n",
    "# base_url = \"https://zam2125.zam.kfa-juelich.de:9112/JUSUF/rest/core/storages/PROJECT/\"\n",
    "source_location = \"drive/Shared with groups/RateML TVB/tvb-root/scientific_library/tvb/rateML/generatedModels/\" + model_filename + \".c\"\n",
    "source_path = os.path.join(os.environ['HOME'], source_location)\n",
    "\n",
    "storage = unicore_client.Storage(tr, base_url)\n",
    "storage_location = \"wikicollab/RateML/\" + model_filename + \".c\"\n",
    "storage.upload(source_path, destination = storage_location)"
   ]
  },
  {
   "cell_type": "markdown",
   "metadata": {},
   "source": [
    "### Job setup"
   ]
  },
  {
   "cell_type": "markdown",
   "metadata": {},
   "source": [
    "Before the can be executed on HPC some other parameters need to be setup as well\n",
    "\n",
    "We specify a grid of parameter values to sweep, which will be setup the HPC according to:\n",
    "```python\n",
    "couplings = np.logspace(1.6, 3.0, coupling)\n",
    "speeds = np.logspace(0.0, 2.0, speed)\n",
    "params_iter = itertools.product(speeds, couplings)\n",
    "params = np.array([vals for vals in params_iter], np.float32)\n",
    "```\n",
    "by setting the coupling and speed sizes:"
   ]
  },
  {
   "cell_type": "code",
   "execution_count": 6,
   "metadata": {},
   "outputs": [],
   "source": [
    "coupling = \"32\"\n",
    "speed = \"32\""
   ]
  },
  {
   "cell_type": "markdown",
   "metadata": {},
   "source": [
    "The simulation time"
   ]
  },
  {
   "cell_type": "code",
   "execution_count": 118,
   "metadata": {},
   "outputs": [],
   "source": [
    "simtime = \"400\""
   ]
  },
  {
   "cell_type": "markdown",
   "metadata": {},
   "source": [
    "The default values of 66, 68, 76, 80, 96, 192 or 998 can be selected and is processed accordingly:\n",
    "```python\n",
    "connectivity = Connectivity.from_file(source_file=\"connectivity_\"+n_nodes+\".zip\")\n",
    "```"
   ]
  },
  {
   "cell_type": "code",
   "execution_count": 8,
   "metadata": {},
   "outputs": [],
   "source": [
    "n_nodes = \"68\""
   ]
  },
  {
   "cell_type": "markdown",
   "metadata": {},
   "source": [
    "Set the number of states of your model. The Kuramoto has 1, ReducedWongWang, Generic2DOscillator and Montbrio have 2 and Epileptor has 6 states. "
   ]
  },
  {
   "cell_type": "code",
   "execution_count": 9,
   "metadata": {},
   "outputs": [],
   "source": [
    "states = \"1\""
   ]
  },
  {
   "cell_type": "code",
   "execution_count": 147,
   "metadata": {},
   "outputs": [],
   "source": [
    "model_filename = \"Kuramotoref\""
   ]
  },
  {
   "cell_type": "markdown",
   "metadata": {},
   "source": [
    "#### Create the unicore job:"
   ]
  },
  {
   "cell_type": "code",
   "execution_count": 148,
   "metadata": {},
   "outputs": [
    {
     "data": {
      "text/plain": [
       "{'Executable': 'source /p/project/cslns/wikicollab/RateML/activate; cd /p/project/cslns/wikicollab/RateML/; ./runthingsJuwels Kuramotoref 32 32 400 68 1',\n",
       " 'RunOnLoginNode': 'true',\n",
       " 'Job type': 'interactive',\n",
       " 'Imports': [],\n",
       " 'Exports': [],\n",
       " 'Resources': {}}"
      ]
     },
     "execution_count": 148,
     "metadata": {},
     "output_type": "execute_result"
    }
   ],
   "source": [
    "my_job = {}\n",
    "\n",
    "# executable / application\n",
    "# arguments for runthingsJusuf are: backend modelname couplings speeds\n",
    "my_job['Executable'] = \"source /p/project/cslns/wikicollab/RateML/activate; \\\n",
    "cd /p/project/cslns/wikicollab/RateML/; \\\n",
    "./runthingsJuwels \"+model_filename+\" \"+coupling+\" \"+speed+\" \"+simtime+\" \"+n_nodes+\" \"+states\n",
    "# ./runthingsJuwels \"+model_filename+\" 32 32\"\n",
    "# ./runthingsJusuf \"+model_filename+ \" 32 32;\"\n",
    "\n",
    "# environment vars\n",
    "# run this on login node, not in batch system\n",
    "my_job['RunOnLoginNode'] = \"true\"\n",
    "\n",
    "my_job['Job type'] = \"interactive\"\n",
    "\n",
    "# data stage in - TBD\n",
    "my_job['Imports'] = []\n",
    "\n",
    "# data stage out - TBD\n",
    "my_job['Exports'] = []\n",
    "\n",
    "# Resources - TBD\n",
    "my_job['Resources'] = {}\n",
    "my_job"
   ]
  },
  {
   "cell_type": "markdown",
   "metadata": {},
   "source": [
    "#### Submit Job to selected HPC cluster "
   ]
  },
  {
   "cell_type": "code",
   "execution_count": 149,
   "metadata": {},
   "outputs": [
    {
     "name": "stdout",
     "output_type": "stream",
     "text": [
      "2020-12-02 17:10:48,932 - DEBUG - urllib3.connectionpool - Starting new HTTPS connection (1): zam2125.zam.kfa-juelich.de:9112\n",
      "2020-12-02 17:10:51,595 - DEBUG - urllib3.connectionpool - https://zam2125.zam.kfa-juelich.de:9112 \"POST /JUWELS/rest/core/jobs HTTP/1.1\" 201 None\n"
     ]
    }
   ],
   "source": [
    "job = site.new_job(job_description=my_job)"
   ]
  },
  {
   "cell_type": "markdown",
   "metadata": {},
   "source": [
    "### Info about JOB"
   ]
  },
  {
   "cell_type": "code",
   "execution_count": 150,
   "metadata": {},
   "outputs": [
    {
     "name": "stdout",
     "output_type": "stream",
     "text": [
      "2020-12-02 17:10:55,678 - DEBUG - urllib3.connectionpool - Starting new HTTPS connection (1): zam2125.zam.kfa-juelich.de:9112\n",
      "2020-12-02 17:10:55,916 - DEBUG - urllib3.connectionpool - https://zam2125.zam.kfa-juelich.de:9112 \"GET /JUWELS/rest/core/jobs/ef2cb341-06a8-4880-8991-b61439208ff0 HTTP/1.1\" 200 4898\n",
      "Job is running\n",
      "2020-12-02 17:10:55,918 - DEBUG - pyunicore.client - Sleeping 5.1\n",
      "2020-12-02 17:11:01,026 - DEBUG - urllib3.connectionpool - Starting new HTTPS connection (1): zam2125.zam.kfa-juelich.de:9112\n",
      "2020-12-02 17:11:01,332 - DEBUG - urllib3.connectionpool - https://zam2125.zam.kfa-juelich.de:9112 \"GET /JUWELS/rest/core/jobs/ef2cb341-06a8-4880-8991-b61439208ff0 HTTP/1.1\" 200 4898\n",
      "2020-12-02 17:11:01,334 - DEBUG - pyunicore.client - Sleeping 5.1\n",
      "2020-12-02 17:11:06,441 - DEBUG - urllib3.connectionpool - Starting new HTTPS connection (1): zam2125.zam.kfa-juelich.de:9112\n",
      "2020-12-02 17:11:06,723 - DEBUG - urllib3.connectionpool - https://zam2125.zam.kfa-juelich.de:9112 \"GET /JUWELS/rest/core/jobs/ef2cb341-06a8-4880-8991-b61439208ff0 HTTP/1.1\" 200 4898\n",
      "2020-12-02 17:11:06,727 - DEBUG - pyunicore.client - Sleeping 5.1\n",
      "2020-12-02 17:11:11,835 - DEBUG - urllib3.connectionpool - Starting new HTTPS connection (1): zam2125.zam.kfa-juelich.de:9112\n",
      "2020-12-02 17:11:12,124 - DEBUG - urllib3.connectionpool - https://zam2125.zam.kfa-juelich.de:9112 \"GET /JUWELS/rest/core/jobs/ef2cb341-06a8-4880-8991-b61439208ff0 HTTP/1.1\" 200 4898\n",
      "2020-12-02 17:11:12,127 - DEBUG - pyunicore.client - Sleeping 5.1\n",
      "2020-12-02 17:11:17,235 - DEBUG - urllib3.connectionpool - Starting new HTTPS connection (1): zam2125.zam.kfa-juelich.de:9112\n",
      "2020-12-02 17:11:17,476 - DEBUG - urllib3.connectionpool - https://zam2125.zam.kfa-juelich.de:9112 \"GET /JUWELS/rest/core/jobs/ef2cb341-06a8-4880-8991-b61439208ff0 HTTP/1.1\" 200 4898\n",
      "2020-12-02 17:11:17,478 - DEBUG - pyunicore.client - Sleeping 5.1\n",
      "2020-12-02 17:11:22,585 - DEBUG - urllib3.connectionpool - Starting new HTTPS connection (1): zam2125.zam.kfa-juelich.de:9112\n",
      "2020-12-02 17:11:22,860 - DEBUG - urllib3.connectionpool - https://zam2125.zam.kfa-juelich.de:9112 \"GET /JUWELS/rest/core/jobs/ef2cb341-06a8-4880-8991-b61439208ff0 HTTP/1.1\" 200 4898\n",
      "2020-12-02 17:11:22,863 - DEBUG - pyunicore.client - Sleeping 5.1\n",
      "2020-12-02 17:11:27,972 - DEBUG - urllib3.connectionpool - Starting new HTTPS connection (1): zam2125.zam.kfa-juelich.de:9112\n",
      "2020-12-02 17:11:28,207 - DEBUG - urllib3.connectionpool - https://zam2125.zam.kfa-juelich.de:9112 \"GET /JUWELS/rest/core/jobs/ef2cb341-06a8-4880-8991-b61439208ff0 HTTP/1.1\" 200 4898\n",
      "2020-12-02 17:11:28,209 - DEBUG - pyunicore.client - Sleeping 5.1\n",
      "2020-12-02 17:11:33,317 - DEBUG - urllib3.connectionpool - Starting new HTTPS connection (1): zam2125.zam.kfa-juelich.de:9112\n",
      "2020-12-02 17:11:33,584 - DEBUG - urllib3.connectionpool - https://zam2125.zam.kfa-juelich.de:9112 \"GET /JUWELS/rest/core/jobs/ef2cb341-06a8-4880-8991-b61439208ff0 HTTP/1.1\" 200 4898\n",
      "2020-12-02 17:11:33,588 - DEBUG - pyunicore.client - Sleeping 5.1\n",
      "2020-12-02 17:11:38,696 - DEBUG - urllib3.connectionpool - Starting new HTTPS connection (1): zam2125.zam.kfa-juelich.de:9112\n",
      "2020-12-02 17:11:38,935 - DEBUG - urllib3.connectionpool - https://zam2125.zam.kfa-juelich.de:9112 \"GET /JUWELS/rest/core/jobs/ef2cb341-06a8-4880-8991-b61439208ff0 HTTP/1.1\" 200 4898\n",
      "2020-12-02 17:11:38,937 - DEBUG - pyunicore.client - Sleeping 5.1\n",
      "2020-12-02 17:11:44,046 - DEBUG - urllib3.connectionpool - Starting new HTTPS connection (1): zam2125.zam.kfa-juelich.de:9112\n",
      "2020-12-02 17:11:44,339 - DEBUG - urllib3.connectionpool - https://zam2125.zam.kfa-juelich.de:9112 \"GET /JUWELS/rest/core/jobs/ef2cb341-06a8-4880-8991-b61439208ff0 HTTP/1.1\" 200 5254\n",
      "Job is finished\n"
     ]
    }
   ],
   "source": [
    "if(job.is_running()):\n",
    "    print('Job is running')\n",
    "\n",
    "job.poll()\n",
    "print('Job is finished')"
   ]
  },
  {
   "cell_type": "markdown",
   "metadata": {},
   "source": [
    "### Fetch results\n",
    "Copy the output log from cluster to Collab"
   ]
  },
  {
   "cell_type": "code",
   "execution_count": 101,
   "metadata": {},
   "outputs": [
    {
     "name": "stdout",
     "output_type": "stream",
     "text": [
      "2020-12-02 14:56:06,590 - DEBUG - urllib3.connectionpool - Starting new HTTPS connection (1): zam2125.zam.kfa-juelich.de:9112\n",
      "2020-12-02 14:56:07,476 - DEBUG - urllib3.connectionpool - https://zam2125.zam.kfa-juelich.de:9112 \"GET /JUWELS/rest/core/storages/PROJECT/ HTTP/1.1\" 200 1240\n",
      "2020-12-02 14:56:07,481 - DEBUG - urllib3.connectionpool - Starting new HTTPS connection (1): zam2125.zam.kfa-juelich.de:9112\n",
      "2020-12-02 14:56:09,588 - DEBUG - urllib3.connectionpool - https://zam2125.zam.kfa-juelich.de:9112 \"GET /JUWELS/rest/core/storages/PROJECT/files/wikicollab/RateML/output.out HTTP/1.1\" 200 281\n",
      "2020-12-02 14:56:09,592 - DEBUG - urllib3.connectionpool - Starting new HTTPS connection (1): zam2125.zam.kfa-juelich.de:9112\n",
      "2020-12-02 14:56:10,556 - DEBUG - urllib3.connectionpool - https://zam2125.zam.kfa-juelich.de:9112 \"GET /JUWELS/rest/core/storages/PROJECT/files/wikicollab/RateML/output.out HTTP/1.1\" 200 195\n",
      "WARNING  File 'cortical' not found in ZIP.\n",
      "WARNING  File 'hemispheres' not found in ZIP.\n",
      "WARNING  File 'areas' not found in ZIP.\n",
      "Finished CUDA simulation successfully in: 6.364\n",
      "in 0.644 M step/s\n"
     ]
    }
   ],
   "source": [
    "remote = storage.stat(\"wikicollab/RateML/output.out\")\n",
    "remote.download(\"output.out\")\n",
    "\n",
    "with open(\"output.out\", \"r\") as f:\n",
    "    for line in f:\n",
    "        print (line.rstrip())"
   ]
  },
  {
   "cell_type": "markdown",
   "metadata": {},
   "source": [
    "Copy the error log from JUSUF to Collab"
   ]
  },
  {
   "cell_type": "code",
   "execution_count": 151,
   "metadata": {},
   "outputs": [
    {
     "name": "stdout",
     "output_type": "stream",
     "text": [
      "2020-12-02 17:11:44,350 - DEBUG - urllib3.connectionpool - Starting new HTTPS connection (1): zam2125.zam.kfa-juelich.de:9112\n",
      "2020-12-02 17:11:45,056 - DEBUG - urllib3.connectionpool - https://zam2125.zam.kfa-juelich.de:9112 \"GET /JUWELS/rest/core/storages/PROJECT/ HTTP/1.1\" 200 1240\n",
      "2020-12-02 17:11:45,061 - DEBUG - urllib3.connectionpool - Starting new HTTPS connection (1): zam2125.zam.kfa-juelich.de:9112\n",
      "2020-12-02 17:11:45,967 - DEBUG - urllib3.connectionpool - https://zam2125.zam.kfa-juelich.de:9112 \"GET /JUWELS/rest/core/storages/PROJECT/files/wikicollab/RateML/error.er HTTP/1.1\" 200 282\n",
      "2020-12-02 17:11:45,971 - DEBUG - urllib3.connectionpool - Starting new HTTPS connection (1): zam2125.zam.kfa-juelich.de:9112\n",
      "2020-12-02 17:11:46,840 - DEBUG - urllib3.connectionpool - https://zam2125.zam.kfa-juelich.de:9112 \"GET /JUWELS/rest/core/storages/PROJECT/files/wikicollab/RateML/error.er HTTP/1.1\" 200 1700\n",
      "/p/project/cslns/vandervlag1/cuda_only/tvb-hpc/tvb-root/scientific_library/tvb/datatypes/surfaces.py:61: UserWarning: Geodesic distance module is unavailable; some functionality for surfaces will be unavailable.\n",
      "  warnings.warn(msg)\n",
      "\n",
      "  0%|          | 0/400 [00:00<?, ?it/s]\n",
      "  4%|▍         | 16/400 [00:00<00:02, 150.95it/s]\n",
      "  8%|▊         | 32/400 [00:00<00:02, 151.96it/s]\n",
      " 12%|█▏        | 49/400 [00:00<00:02, 156.09it/s]\n",
      " 16%|█▋        | 66/400 [00:00<00:02, 159.97it/s]\n",
      " 21%|██        | 84/400 [00:00<00:01, 164.31it/s]\n",
      " 26%|██▌       | 102/400 [00:00<00:01, 167.50it/s]\n",
      " 30%|███       | 120/400 [00:00<00:01, 169.77it/s]\n",
      " 34%|███▍      | 138/400 [00:00<00:01, 171.44it/s]\n",
      " 39%|███▉      | 156/400 [00:00<00:01, 172.62it/s]\n",
      " 44%|████▎     | 174/400 [00:01<00:01, 173.41it/s]\n",
      " 48%|████▊     | 192/400 [00:01<00:01, 173.99it/s]\n",
      " 52%|█████▎    | 210/400 [00:01<00:01, 174.35it/s]\n",
      " 57%|█████▋    | 228/400 [00:01<00:00, 174.63it/s]\n",
      " 62%|██████▏   | 246/400 [00:01<00:00, 174.80it/s]\n",
      " 66%|██████▌   | 264/400 [00:01<00:00, 174.98it/s]\n",
      " 70%|███████   | 282/400 [00:01<00:00, 175.08it/s]\n",
      " 75%|███████▌  | 300/400 [00:01<00:00, 175.19it/s]\n",
      " 80%|███████▉  | 318/400 [00:01<00:00, 175.23it/s]\n",
      " 84%|████████▍ | 336/400 [00:01<00:00, 175.28it/s]\n",
      " 88%|████████▊ | 354/400 [00:02<00:00, 175.31it/s]\n",
      " 93%|█████████▎| 372/400 [00:02<00:00, 175.31it/s]\n",
      " 98%|█████████▊| 390/400 [00:02<00:00, 175.34it/s]\n",
      "100%|██████████| 400/400 [00:02<00:00, 172.67it/s]\n"
     ]
    }
   ],
   "source": [
    "remote = storage.stat(\"wikicollab/RateML/error.er\")\n",
    "remote.download(\"error.er\")\n",
    "\n",
    "with open(\"error.er\", \"r\") as f:\n",
    "    for line in f:\n",
    "        print (line.rstrip())"
   ]
  },
  {
   "cell_type": "markdown",
   "metadata": {},
   "source": [
    "#### Transfer the produced data from HPC"
   ]
  },
  {
   "cell_type": "code",
   "execution_count": 152,
   "metadata": {},
   "outputs": [
    {
     "name": "stdout",
     "output_type": "stream",
     "text": [
      "2020-12-02 17:12:12,333 - DEBUG - urllib3.connectionpool - Starting new HTTPS connection (1): zam2125.zam.kfa-juelich.de:9112\n",
      "2020-12-02 17:12:13,355 - DEBUG - urllib3.connectionpool - https://zam2125.zam.kfa-juelich.de:9112 \"GET /JUWELS/rest/core/storages/PROJECT/ HTTP/1.1\" 200 1240\n",
      "2020-12-02 17:12:13,359 - DEBUG - urllib3.connectionpool - Starting new HTTPS connection (1): zam2125.zam.kfa-juelich.de:9112\n",
      "2020-12-02 17:12:14,068 - DEBUG - urllib3.connectionpool - https://zam2125.zam.kfa-juelich.de:9112 \"GET /JUWELS/rest/core/storages/PROJECT/files/wikicollab/RateML/tavg_data HTTP/1.1\" 200 287\n",
      "2020-12-02 17:12:14,072 - DEBUG - urllib3.connectionpool - Starting new HTTPS connection (1): zam2125.zam.kfa-juelich.de:9112\n",
      "2020-12-02 17:12:14,858 - DEBUG - urllib3.connectionpool - https://zam2125.zam.kfa-juelich.de:9112 \"GET /JUWELS/rest/core/storages/PROJECT/files/wikicollab/RateML/tavg_data HTTP/1.1\" 200 None\n"
     ]
    }
   ],
   "source": [
    "remote = storage.stat(\"wikicollab/RateML/tavg_data\")\n",
    "remote.download(\"tavg_data\")"
   ]
  },
  {
   "cell_type": "markdown",
   "metadata": {},
   "source": [
    "#### Unpickle it"
   ]
  },
  {
   "cell_type": "code",
   "execution_count": 153,
   "metadata": {},
   "outputs": [
    {
     "data": {
      "text/plain": [
       "(400, 68)"
      ]
     },
     "execution_count": 153,
     "metadata": {},
     "output_type": "execute_result"
    }
   ],
   "source": [
    "import pickle\n",
    "tavg_file = open('tavg_data', 'rb')\n",
    "tavg_data = pickle.load(tavg_file)\n",
    "tavg_file.close()\n",
    "tavg_data.shape\n",
    "tavg_data[...,0].shape"
   ]
  },
  {
   "cell_type": "markdown",
   "metadata": {},
   "source": [
    "#### Plot the data"
   ]
  },
  {
   "cell_type": "code",
   "execution_count": 156,
   "metadata": {},
   "outputs": [
    {
     "data": {
      "image/png": "[encoded data removed]",
      "text/plain": [
       "<Figure size 432x288 with 1 Axes>"
      ]
     },
     "metadata": {
      "needs_background": "light"
     },
     "output_type": "display_data"
    }
   ],
   "source": [
    "from pylab import *\n",
    "import numpy as np\n",
    "plot(np.cos(tavg_data[..., 0]) + np.r_[:68]/15.0, 'k')\n",
    "show()"
   ]
  },
  {
   "cell_type": "code",
   "execution_count": 158,
   "metadata": {},
   "outputs": [
    {
     "name": "stderr",
     "output_type": "stream",
     "text": [
      "  0%|          | 0/1024 [00:00<?, ?it/s]/opt/app-root/lib/python3.6/site-packages/numpy/lib/function_base.py:2534: RuntimeWarning: invalid value encountered in true_divide\n",
      "  c /= stddev[:, None]\n",
      "/opt/app-root/lib/python3.6/site-packages/numpy/lib/function_base.py:2535: RuntimeWarning: invalid value encountered in true_divide\n",
      "  c /= stddev[None, :]\n",
      "100%|██████████| 1024/1024 [00:01<00:00, 952.22it/s]\n"
     ]
    }
   ],
   "source": [
    "import tqdm\n",
    "cc = np.zeros((1024, 68, 68), 'f')\n",
    "for i in tqdm.trange(1024):\n",
    "    cc[i] = np.corrcoef(tavg_data[..., 0].T)"
   ]
  },
  {
   "cell_type": "code",
   "execution_count": 159,
   "metadata": {},
   "outputs": [
    {
     "ename": "NameError",
     "evalue": "name 'weights' is not defined",
     "output_type": "error",
     "traceback": [
      "\u001b[0;31m---------------------------------------------------------------------------\u001b[0m",
      "\u001b[0;31mNameError\u001b[0m                                 Traceback (most recent call last)",
      "\u001b[0;32m<ipython-input-159-e3736e962c6a>\u001b[0m in \u001b[0;36m<module>\u001b[0;34m\u001b[0m\n\u001b[0;32m----> 1\u001b[0;31m \u001b[0ml2\u001b[0m \u001b[0;34m=\u001b[0m \u001b[0mnp\u001b[0m\u001b[0;34m.\u001b[0m\u001b[0msqrt\u001b[0m\u001b[0;34m(\u001b[0m\u001b[0mnp\u001b[0m\u001b[0;34m.\u001b[0m\u001b[0msum\u001b[0m\u001b[0;34m(\u001b[0m\u001b[0mnp\u001b[0m\u001b[0;34m.\u001b[0m\u001b[0msum\u001b[0m\u001b[0;34m(\u001b[0m\u001b[0;34m(\u001b[0m\u001b[0mcc\u001b[0m \u001b[0;34m-\u001b[0m \u001b[0mweights\u001b[0m\u001b[0;34m)\u001b[0m\u001b[0;34m**\u001b[0m\u001b[0;36m2\u001b[0m\u001b[0;34m,\u001b[0m \u001b[0maxis\u001b[0m\u001b[0;34m=\u001b[0m\u001b[0;34m-\u001b[0m\u001b[0;36m1\u001b[0m\u001b[0;34m)\u001b[0m\u001b[0;34m,\u001b[0m \u001b[0maxis\u001b[0m\u001b[0;34m=\u001b[0m\u001b[0;34m-\u001b[0m\u001b[0;36m1\u001b[0m\u001b[0;34m)\u001b[0m\u001b[0;34m)\u001b[0m\u001b[0;34m.\u001b[0m\u001b[0mreshape\u001b[0m\u001b[0;34m(\u001b[0m\u001b[0;34m(\u001b[0m\u001b[0;36m32\u001b[0m\u001b[0;34m,\u001b[0m \u001b[0;36m32\u001b[0m\u001b[0;34m)\u001b[0m\u001b[0;34m)\u001b[0m\u001b[0;34m\u001b[0m\u001b[0;34m\u001b[0m\u001b[0m\n\u001b[0m",
      "\u001b[0;31mNameError\u001b[0m: name 'weights' is not defined"
     ]
    }
   ],
   "source": [
    "l2 = np.sqrt(np.sum(np.sum((cc - weights)**2, axis=-1), axis=-1)).reshape((32, 32))"
   ]
  },
  {
   "cell_type": "code",
   "execution_count": null,
   "metadata": {},
   "outputs": [],
   "source": [
    "%pylab inline\n",
    "imshow(l2)"
   ]
  }
 ],
 "metadata": {
  "kernelspec": {
   "display_name": "Python 3",
   "language": "python",
   "name": "python3"
  },
  "language_info": {
   "codemirror_mode": {
    "name": "ipython",
    "version": 3
   },
   "file_extension": ".py",
   "mimetype": "text/x-python",
   "name": "python",
   "nbconvert_exporter": "python",
   "pygments_lexer": "ipython3",
   "version": "3.6.9"
  }
 },
 "nbformat": 4,
 "nbformat_minor": 4
}
