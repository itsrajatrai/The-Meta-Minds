{
 "cells": [
  {
   "cell_type": "markdown",
   "source": [
    "# This demo shows how an import from a zip in BIDS derivatives format is made\n",
    "This demo will work only with tvb web gui installed\n",
    "(launched at least once and setup to contain at least one valid Project)"
   ],
   "metadata": {
    "collapsed": false,
    "pycharm": {
     "name": "#%% md\n"
    }
   }
  },
  {
   "cell_type": "code",
   "execution_count": 1,
   "outputs": [
    {
     "name": "stdout",
     "output_type": "stream",
     "text": [
      "2022-05-25 14:47:56,322 - WARNING - tvb.config.init.introspector_registry - Skipped Adapter(probably because MATLAB not found):<class 'tvb.adapters.analyzers.bct_adapters.DistanceDBIN'>\n",
      "2022-05-25 14:47:56,324 - WARNING - tvb.config.init.introspector_registry - Skipped Adapter(probably because MATLAB not found):<class 'tvb.adapters.analyzers.bct_adapters.DistanceDWEI'>\n",
      "2022-05-25 14:47:56,325 - WARNING - tvb.config.init.introspector_registry - Skipped Adapter(probably because MATLAB not found):<class 'tvb.adapters.analyzers.bct_adapters.DistanceNETW'>\n",
      "2022-05-25 14:47:56,326 - WARNING - tvb.config.init.introspector_registry - Skipped Adapter(probably because MATLAB not found):<class 'tvb.adapters.analyzers.bct_adapters.DistanceRDA'>\n",
      "2022-05-25 14:47:56,326 - WARNING - tvb.config.init.introspector_registry - Skipped Adapter(probably because MATLAB not found):<class 'tvb.adapters.analyzers.bct_adapters.DistanceRDM'>\n",
      "2022-05-25 14:47:56,327 - WARNING - tvb.config.init.introspector_registry - Skipped Adapter(probably because MATLAB not found):<class 'tvb.adapters.analyzers.bct_adapters.ModularityOCSM'>\n",
      "2022-05-25 14:47:56,328 - WARNING - tvb.config.init.introspector_registry - Skipped Adapter(probably because MATLAB not found):<class 'tvb.adapters.analyzers.bct_adapters.ModularityOpCSMU'>\n",
      "2022-05-25 14:47:56,332 - WARNING - tvb.config.init.introspector_registry - Skipped Adapter(probably because MATLAB not found):<class 'tvb.adapters.analyzers.bct_centrality_adapters.CentralityEdgeBinary'>\n",
      "2022-05-25 14:47:56,333 - WARNING - tvb.config.init.introspector_registry - Skipped Adapter(probably because MATLAB not found):<class 'tvb.adapters.analyzers.bct_centrality_adapters.CentralityEdgeWeighted'>\n",
      "2022-05-25 14:47:56,333 - WARNING - tvb.config.init.introspector_registry - Skipped Adapter(probably because MATLAB not found):<class 'tvb.adapters.analyzers.bct_centrality_adapters.CentralityEigenVector'>\n",
      "2022-05-25 14:47:56,334 - WARNING - tvb.config.init.introspector_registry - Skipped Adapter(probably because MATLAB not found):<class 'tvb.adapters.analyzers.bct_centrality_adapters.CentralityKCoreness'>\n",
      "2022-05-25 14:47:56,335 - WARNING - tvb.config.init.introspector_registry - Skipped Adapter(probably because MATLAB not found):<class 'tvb.adapters.analyzers.bct_centrality_adapters.CentralityKCorenessBD'>\n",
      "2022-05-25 14:47:56,335 - WARNING - tvb.config.init.introspector_registry - Skipped Adapter(probably because MATLAB not found):<class 'tvb.adapters.analyzers.bct_centrality_adapters.CentralityNodeBinary'>\n",
      "2022-05-25 14:47:56,336 - WARNING - tvb.config.init.introspector_registry - Skipped Adapter(probably because MATLAB not found):<class 'tvb.adapters.analyzers.bct_centrality_adapters.CentralityNodeWeighted'>\n",
      "2022-05-25 14:47:56,336 - WARNING - tvb.config.init.introspector_registry - Skipped Adapter(probably because MATLAB not found):<class 'tvb.adapters.analyzers.bct_centrality_adapters.CentralityShortcuts'>\n",
      "2022-05-25 14:47:56,337 - WARNING - tvb.config.init.introspector_registry - Skipped Adapter(probably because MATLAB not found):<class 'tvb.adapters.analyzers.bct_centrality_adapters.FlowCoefficients'>\n",
      "2022-05-25 14:47:56,338 - WARNING - tvb.config.init.introspector_registry - Skipped Adapter(probably because MATLAB not found):<class 'tvb.adapters.analyzers.bct_centrality_adapters.ParticipationCoefficient'>\n",
      "2022-05-25 14:47:56,339 - WARNING - tvb.config.init.introspector_registry - Skipped Adapter(probably because MATLAB not found):<class 'tvb.adapters.analyzers.bct_centrality_adapters.ParticipationCoefficientSign'>\n",
      "2022-05-25 14:47:56,340 - WARNING - tvb.config.init.introspector_registry - Skipped Adapter(probably because MATLAB not found):<class 'tvb.adapters.analyzers.bct_centrality_adapters.SubgraphCentrality'>\n",
      "2022-05-25 14:47:56,342 - WARNING - tvb.config.init.introspector_registry - Skipped Adapter(probably because MATLAB not found):<class 'tvb.adapters.analyzers.bct_clustering_adapters.ClusteringCoefficient'>\n",
      "2022-05-25 14:47:56,343 - WARNING - tvb.config.init.introspector_registry - Skipped Adapter(probably because MATLAB not found):<class 'tvb.adapters.analyzers.bct_clustering_adapters.ClusteringCoefficientBU'>\n",
      "2022-05-25 14:47:56,344 - WARNING - tvb.config.init.introspector_registry - Skipped Adapter(probably because MATLAB not found):<class 'tvb.adapters.analyzers.bct_clustering_adapters.ClusteringCoefficientWD'>\n",
      "2022-05-25 14:47:56,345 - WARNING - tvb.config.init.introspector_registry - Skipped Adapter(probably because MATLAB not found):<class 'tvb.adapters.analyzers.bct_clustering_adapters.ClusteringCoefficientWU'>\n",
      "2022-05-25 14:47:56,346 - WARNING - tvb.config.init.introspector_registry - Skipped Adapter(probably because MATLAB not found):<class 'tvb.adapters.analyzers.bct_clustering_adapters.TransitivityBinaryDirected'>\n",
      "2022-05-25 14:47:56,347 - WARNING - tvb.config.init.introspector_registry - Skipped Adapter(probably because MATLAB not found):<class 'tvb.adapters.analyzers.bct_clustering_adapters.TransitivityBinaryUnDirected'>\n",
      "2022-05-25 14:47:56,348 - WARNING - tvb.config.init.introspector_registry - Skipped Adapter(probably because MATLAB not found):<class 'tvb.adapters.analyzers.bct_clustering_adapters.TransitivityWeightedDirected'>\n",
      "2022-05-25 14:47:56,348 - WARNING - tvb.config.init.introspector_registry - Skipped Adapter(probably because MATLAB not found):<class 'tvb.adapters.analyzers.bct_clustering_adapters.TransitivityWeightedUnDirected'>\n",
      "2022-05-25 14:47:56,352 - WARNING - tvb.config.init.introspector_registry - Skipped Adapter(probably because MATLAB not found):<class 'tvb.adapters.analyzers.bct_degree_adapters.Degree'>\n",
      "2022-05-25 14:47:56,353 - WARNING - tvb.config.init.introspector_registry - Skipped Adapter(probably because MATLAB not found):<class 'tvb.adapters.analyzers.bct_degree_adapters.DegreeIOD'>\n",
      "2022-05-25 14:47:56,354 - WARNING - tvb.config.init.introspector_registry - Skipped Adapter(probably because MATLAB not found):<class 'tvb.adapters.analyzers.bct_degree_adapters.DensityDirected'>\n",
      "2022-05-25 14:47:56,354 - WARNING - tvb.config.init.introspector_registry - Skipped Adapter(probably because MATLAB not found):<class 'tvb.adapters.analyzers.bct_degree_adapters.DensityUndirected'>\n",
      "2022-05-25 14:47:56,356 - WARNING - tvb.config.init.introspector_registry - Skipped Adapter(probably because MATLAB not found):<class 'tvb.adapters.analyzers.bct_degree_adapters.JointDegree'>\n",
      "2022-05-25 14:47:56,357 - WARNING - tvb.config.init.introspector_registry - Skipped Adapter(probably because MATLAB not found):<class 'tvb.adapters.analyzers.bct_degree_adapters.MatchingIndex'>\n",
      "2022-05-25 14:47:56,358 - WARNING - tvb.config.init.introspector_registry - Skipped Adapter(probably because MATLAB not found):<class 'tvb.adapters.analyzers.bct_degree_adapters.Strength'>\n",
      "2022-05-25 14:47:56,359 - WARNING - tvb.config.init.introspector_registry - Skipped Adapter(probably because MATLAB not found):<class 'tvb.adapters.analyzers.bct_degree_adapters.StrengthISOS'>\n",
      "2022-05-25 14:47:56,359 - WARNING - tvb.config.init.introspector_registry - Skipped Adapter(probably because MATLAB not found):<class 'tvb.adapters.analyzers.bct_degree_adapters.StrengthWeights'>\n",
      "2022-05-25 14:47:57,911 - INFO - alembic.runtime.migration - Context impl SQLiteImpl.\n",
      "2022-05-25 14:47:57,912 - INFO - alembic.runtime.migration - Will assume non-transactional DDL.\n",
      "2022-05-25 14:47:57,935 - INFO - tvb.config.init.model_manager - Database already has some data, will not be re-created!\n"
     ]
    }
   ],
   "source": [
    "from tvb.interfaces.command.lab import *\n",
    "from tvb.adapters.uploaders.bids_importer import BIDSImporter, BIDSImporterModel"
   ],
   "metadata": {
    "collapsed": false,
    "pycharm": {
     "name": "#%%\n"
    }
   }
  },
  {
   "cell_type": "code",
   "execution_count": 14,
   "outputs": [
    {
     "name": "stdout",
     "output_type": "stream",
     "text": [
      "                    name    id\n",
      "                    test     1\n"
     ]
    }
   ],
   "source": [
    "# list projects to chose by id the one in which we upload new data\n",
    "list_projects()"
   ],
   "metadata": {
    "collapsed": false,
    "pycharm": {
     "name": "#%%\n"
    }
   }
  },
  {
   "cell_type": "code",
   "execution_count": 13,
   "id": "af5cc251",
   "metadata": {},
   "outputs": [
    {
     "name": "stdout",
     "output_type": "stream",
     "text": [
      "2022-05-25 15:55:45,182 - INFO - tvb.core.services.operation_service - Starting operation BIDSImporter\n",
      "2022-05-25 15:55:45,310 - INFO - tvb.core.services.backend_clients.standalone_client - Start processing operation id:3\n",
      "2022-05-25 15:56:05,544 - INFO - tvb.core.services.backend_clients.standalone_client - Finished with launch of operation 3\n",
      "2022-05-25 15:56:05,545 - INFO - tvb.core.services.backend_clients.standalone_client - Return code: 0. Stopped: False\n",
      "2022-05-25 15:56:05,547 - INFO - tvb.core.services.backend_clients.standalone_client - Thread: <OperationExecutor(Thread-121, initial)>\n",
      "2022-05-25 15:56:05,553 - INFO - tvb.core.services.operation_service - Finished operation launch:BIDSImporter\n"
     ]
    }
   ],
   "source": [
    "operation_service = OperationService()\n",
    "project = dao.get_project_by_id(1)\n",
    "\n",
    "# Configure the adapter instance\n",
    "adapter_instance = BIDSImporter()\n",
    "upload_category = dao.get_uploader_categories()[0]\n",
    "algorithm = dao.get_algorithm_by_module(BIDSImporter.__module__, BIDSImporter.__name__)\n",
    "adapter_instance.stored_adapter = algorithm\n",
    "\n",
    "# instantiate view model and set path to BIDS derivative dataset\n",
    "view_model = BIDSImporterModel()\n",
    "view_model.uploaded = \"bids_derivatives_dataset.zip\"\n",
    "\n",
    "# launch the upload operation\n",
    "launched_operations = operation_service.fire_operation(adapter_instance,\n",
    "                                                       project.administrator, project.id,\n",
    "                                                       view_model=view_model)"
   ]
  },
  {
   "cell_type": "markdown",
   "id": "fd5454d0",
   "metadata": {
    "pycharm": {
     "name": "#%% md\n"
    }
   },
   "source": [
    "You should now see the uploaded data in tvb web GUI in the project who's ID was written above."
   ]
  },
  {
   "cell_type": "code",
   "execution_count": null,
   "outputs": [],
   "source": [],
   "metadata": {
    "collapsed": false,
    "pycharm": {
     "name": "#%%\n"
    }
   }
  }
 ],
 "metadata": {
  "kernelspec": {
   "display_name": "Python 3 (ipykernel)",
   "language": "python",
   "name": "python3"
  },
  "language_info": {
   "codemirror_mode": {
    "name": "ipython",
    "version": 3
   },
   "file_extension": ".py",
   "mimetype": "text/x-python",
   "name": "python",
   "nbconvert_exporter": "python",
   "pygments_lexer": "ipython3",
   "version": "3.10.0"
  }
 },
 "nbformat": 4,
 "nbformat_minor": 5
}