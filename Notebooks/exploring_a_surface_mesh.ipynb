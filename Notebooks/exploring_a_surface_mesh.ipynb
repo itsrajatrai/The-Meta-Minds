{
 "cells": [
  {
   "cell_type": "code",
   "execution_count": 1,
   "metadata": {},
   "outputs": [],
   "source": [
    "%matplotlib inline\n",
    "import matplotlib.pyplot as plt\n",
    "from tvb.simulator.lab import *"
   ]
  },
  {
   "cell_type": "markdown",
   "metadata": {},
   "source": [
    "# Exploring a surface mesh\n",
    "\n",
    "Surface level simulations in TVB use a triangular mesh surface to represent the \n",
    "folded cortical surface, similar triangular mesh surfaces are used to represent \n",
    "the boundaries between brain and skull, skull and skin, and skin and air, that \n",
    "are used in the calculation of EEG and MEG forward solutions. This tutorial \n",
    "covers a few basic ways of looking at the properties of these surfaces.\n",
    "\n",
    "One of the things we'll be looking for is how well regularised the mesh is -- **a\n",
    "well regularised a mesh has a narrow distribution of edge lengths and triangle \n",
    "areas**. For most uses in TVB, it is important to have a well regularised mesh. "
   ]
  },
  {
   "cell_type": "code",
   "execution_count": 2,
   "metadata": {},
   "outputs": [
    {
     "name": "stdout",
     "output_type": "stream",
     "text": [
      "WARNING  File 'hemispheres' not found in ZIP.\n"
     ]
    },
    {
     "data": {
      "text/html": [
       "<table>\n",
       "<h3>Cortex</h3>\n",
       "<thead><tr><th></th><th style=\"text-align:left;width:40%\">value</th></tr></thead>\n",
       "<tbody>\n",
       "<tr><td>Type</td><td style=\"text-align:left;\"><pre>Cortex</pre></td>\n",
       "<tr><td>coupling_strength [min, median, max]</td><td style=\"text-align:left;\"><pre>[1, 1, 1]</pre></td>\n",
       "<tr><td>coupling_strength dtype</td><td style=\"text-align:left;\"><pre>float64</pre></td>\n",
       "<tr><td>coupling_strength shape</td><td style=\"text-align:left;\"><pre>(1,)</pre></td>\n",
       "<tr><td>gid</td><td style=\"text-align:left;\"><pre>UUID('2cb05616-7a9e-4879-aaca-f189c8af0dc5')</pre></td>\n",
       "<tr><td>local_connectivity</td><td style=\"text-align:left;\"><pre>LocalConnectivity gid: f5fcf0ed-c515-49e9-bafc-45e59cf05776</pre></td>\n",
       "<tr><td>region_mapping_data</td><td style=\"text-align:left;\"><pre>RegionMapping gid: 08f0bcd1-bc2c-4ac2-aa02-70674e9c7cde</pre></td>\n",
       "<tr><td>title</td><td style=\"text-align:left;\"><pre>Cortex gid: 2cb05616-7a9e-4879-aaca-f189c8af0dc5</pre></td>\n",
       "</tbody></table>"
      ],
      "text/plain": [
       "<tvb.datatypes.cortex.Cortex at 0x24c6a22d408>"
      ]
     },
     "execution_count": 2,
     "metadata": {},
     "output_type": "execute_result"
    }
   ],
   "source": [
    "ctx = cortex.Cortex.from_file()\n",
    "ctx.region_mapping_data.connectivity = connectivity.Connectivity.from_file()\n",
    "ctx.configure()\n",
    "ctx"
   ]
  },
  {
   "cell_type": "markdown",
   "metadata": {},
   "source": [
    "We can see a number of basic properties of the mesh here, such as the number of vertices,\n",
    "edges and triangles making up the surface. A summary of the edge lengths is also included,\n",
    "this is useful to know what scale of features, eg LocalConnectivity, we can expect to be \n",
    "able to represent on this surface. As a Cortex also has a large-scale Connectivity \n",
    "associated with it we see some \"Region\" information as well, here it is TVB's default 76\n",
    "region connectivity matrix. As we can see, this Connectivity parcellates the cortex into \n",
    "regions with a fairly broad range of sizes.\n",
    "\n",
    "Looking in more detail, we can plot the distributions of things like edge lengths and \n",
    "triangle areas to see in more detail whether the mesh is well regularised..."
   ]
  },
  {
   "cell_type": "code",
   "execution_count": 3,
   "metadata": {},
   "outputs": [
    {
     "data": {
      "text/plain": [
       "Text(0.5, 0, 'mm$^2$')"
      ]
     },
     "execution_count": 3,
     "metadata": {},
     "output_type": "execute_result"
    },
    {
     "data": {
      "image/png": "[encoded data removed]",
      "text/plain": [
       "<Figure size 720x360 with 2 Axes>"
      ]
     },
     "metadata": {
      "needs_background": "light"
     },
     "output_type": "display_data"
    }
   ],
   "source": [
    "plt.figure(figsize=(10, 5))\n",
    "plt.subplot(121)\n",
    "plt.hist(ctx.region_mapping_data.surface.edge_lengths, bins=100)\n",
    "plt.title(\"Distribution of Edge Lengths\")\n",
    "plt.xlabel(\"mm\")\n",
    "\n",
    "plt.subplot(122)\n",
    "plt.hist(ctx.region_mapping_data.surface.triangle_areas, bins=100)\n",
    "plt.title(\"Distribution of Triangle Areas\")\n",
    "plt.xlabel(\"mm$^2$\")"
   ]
  }
 ],
 "metadata": {
  "kernelspec": {
   "display_name": "Python 3 (ipykernel)",
   "language": "python",
   "name": "python3"
  },
  "language_info": {
   "codemirror_mode": {
    "name": "ipython",
    "version": 3
   },
   "file_extension": ".py",
   "mimetype": "text/x-python",
   "name": "python",
   "nbconvert_exporter": "python",
   "pygments_lexer": "ipython3",
   "version": "3.7.12"
  }
 },
 "nbformat": 4,
 "nbformat_minor": 4
}
