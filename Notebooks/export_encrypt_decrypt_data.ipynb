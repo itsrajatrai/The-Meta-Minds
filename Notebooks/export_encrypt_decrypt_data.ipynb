{
 "cells": [
  {
   "cell_type": "markdown",
   "metadata": {
    "id": "8PIBzds-ZGsR"
   },
   "source": [
    "# Encrypt/Decrypt files for securily downloading data from TVB Web Gui"
   ]
  },
  {
   "cell_type": "markdown",
   "metadata": {
    "id": "OkJvEgOLd1Fh"
   },
   "source": [
    "Before exporting data from TVB Web Gui, you might consider obtaining data in encrypted form in order to keep your data private.\n",
    "\n",
    "For exporting data from TVB we recommend a public-private key encryption (RSA), where the user generates a pair of public and private keys. The public key is supposed to be passed to TVB in order to encrypt the data. The private key will be used by the user to decrypt the data after exporting.\n",
    "\n",
    "Unfortunately, RSA by itself is not enough because it can only encrypt limited amounts of data, and TVB input files could grow easily. To solve this problem, the files are encrypted using a symmetric-key encryption algorithm, namely AES, and the password which is used for generating the symmetric key is encrypted using the public key obtained by TVB from the user.\n",
    "\n",
    "The first cell can be run in order to generate the pair of public and private keys. You just need to specify a path where the two keys will be downloaded.\n",
    "\n"
   ]
  },
  {
   "cell_type": "code",
   "execution_count": 1,
   "metadata": {
    "colab": {
     "base_uri": "https://localhost:8080/",
     "height": 351
    },
    "id": "uXCHcHycd8D-",
    "outputId": "f5054508-dae3-41cc-f47f-a5b192674d0f"
   },
   "outputs": [],
   "source": [
    "from tvb.storage.storage_interface import StorageInterface\n",
    "\n",
    "key_base_path = # Enter path where you want your keys to be generated\n",
    "encryption_handler = StorageInterface.get_import_export_encryption_handler()\n",
    "encryption_handler.generate_public_private_key_pair(key_base_path)"
   ]
  },
  {
   "cell_type": "markdown",
   "metadata": {
    "id": "6OXzzUbSiNiA"
   },
   "source": [
    "When you wish to export your data in an encrypted form, you should upload the public key to TVB Web Gui. \n",
    "\n",
    "Your encrypted data will be downloaded in a zip format.\n",
    "Run the next cell (don't forget to specify your paths before) in order to unzip the zip file and obtain a list of all files in the unziped folder."
   ]
  },
  {
   "cell_type": "code",
   "execution_count": 2,
   "metadata": {
    "id": "42kjOLVrZVIu"
   },
   "outputs": [],
   "source": [
    "from tvb.storage.h5.file.files_helper import TvbZip\n",
    "\n",
    "zip_file_path = # Enter path to your downloaded and encrypted zip file\n",
    "unzip_file_path = # Enter path where you want your files to be unzipped\n",
    "\n",
    "tvb_zip = TvbZip(zip_file_path, 'r')\n",
    "files = tvb_zip.unpack_zip(unzip_file_path)"
   ]
  },
  {
   "cell_type": "markdown",
   "metadata": {
    "id": "gHhYsj0ZmKC4"
   },
   "source": [
    "The unpack_zip method returns a list of files where one of them is called 'encrypted_password.pem' and the others are files that you want to decrypt.\n",
    "\n",
    "Run the next cell in order to separete the file for the encrypted password from the rest of the files."
   ]
  },
  {
   "cell_type": "code",
   "execution_count": 3,
   "metadata": {
    "id": "T1zAlQubmc95"
   },
   "outputs": [],
   "source": [
    "encrypted_password = encryption_handler.extract_encrypted_password_from_list(files)"
   ]
  },
  {
   "cell_type": "markdown",
   "metadata": {
    "id": "GmbxJGrOm8za"
   },
   "source": [
    "Finally, run the next cell in order to decrypt your data."
   ]
  },
  {
   "cell_type": "code",
   "execution_count": null,
   "metadata": {
    "id": "6h7F2G1NnJdd"
   },
   "outputs": [],
   "source": [
    "import os\n",
    "\n",
    "private_key_path = # Enter path to your private key here (generated at the first step)\n",
    "decryption_path = encryption_handler.decrypt_content(encrypted_password, files, private_key_path)\n",
    "print(\"Your data has been decrypted here: \" + os.path.dirname(decryption_path[0]))"
   ]
  }
 ],
 "metadata": {
  "colab": {
   "collapsed_sections": [],
   "name": "export_encrypt_decrypt_data.ipynb",
   "provenance": []
  },
  "kernelspec": {
   "display_name": "Python 3 (ipykernel)",
   "language": "python",
   "name": "python3"
  },
  "language_info": {
   "codemirror_mode": {
    "name": "ipython",
    "version": 3
   },
   "file_extension": ".py",
   "mimetype": "text/x-python",
   "name": "python",
   "nbconvert_exporter": "python",
   "pygments_lexer": "ipython3",
   "version": "3.7.12"
  }
 },
 "nbformat": 4,
 "nbformat_minor": 4
}
