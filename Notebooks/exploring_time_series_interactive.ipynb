{
 "cells": [
  {
   "cell_type": "markdown",
   "id": "45b88068",
   "metadata": {},
   "source": [
    "## Time Series Interactive Tool"
   ]
  },
  {
   "cell_type": "markdown",
   "id": "e938e537",
   "metadata": {},
   "source": [
    "In this tutorial we will explore the different functionalities of Time Series Interactive Tool."
   ]
  },
  {
   "cell_type": "code",
   "execution_count": 1,
   "id": "03250d05",
   "metadata": {},
   "outputs": [],
   "source": [
    "%matplotlib widget\n",
    "\n",
    "import numpy as np\n",
    "from tvb.simulator.lab import *\n",
    "from tvb.simulator.plot.timeseries_interactive import TimeSeriesInteractive, TimeSeriesInteractivePlotter\n",
    "\n",
    "LOG = get_logger('demo')"
   ]
  },
  {
   "cell_type": "code",
   "execution_count": 2,
   "id": "f6249788",
   "metadata": {},
   "outputs": [],
   "source": [
    "def generate_region_demo_data():\n",
    "    \"\"\"\n",
    "    Generate 16 seconds of 2048Hz data at the region level, stochastic integration.\n",
    "    \n",
    "    ``Run time``: approximately 4 minutes (workstation circa 2010)\n",
    "    \n",
    "    ``Memory requirement``: < 1GB\n",
    "    ``Storage requirement``: ~ 19MB\n",
    "    \n",
    "    .. moduleauthor:: Stuart A. Knock <stuart.knock@gmail.com>\n",
    "    \n",
    "    \"\"\"\n",
    "    \n",
    "   \n",
    "    ##----------------------------------------------------------------------------##\n",
    "    ##-                      Perform the simulation                              -##\n",
    "    ##----------------------------------------------------------------------------##\n",
    "    \n",
    "    LOG.info(\"Configuring...\")\n",
    "    \n",
    "    #Initialise a Model, Coupling, and Connectivity.\n",
    "    pars = {'a': np.array([1.05]),\n",
    "            'b': np.array([-1.]),\n",
    "            'c': np.array([0.0]),\n",
    "            'd': np.array([0.1]),\n",
    "            'e': np.array([0.0]),\n",
    "            'f': np.array([1 / 3.]),\n",
    "            'g': np.array([1.0]),\n",
    "            'alpha': np.array([1.0]),\n",
    "            'beta': np.array([0.2]),\n",
    "            'tau': np.array([1.25]),\n",
    "            'gamma': np.array([-1.0])}\n",
    "    \n",
    "    oscillator = models.Generic2dOscillator(**pars)\n",
    "    \n",
    "    white_matter = connectivity.Connectivity().from_file()\n",
    "    white_matter.speed = np.array([4.0])\n",
    "    white_matter_coupling = coupling.Linear(a=np.array([0.033]))\n",
    "    \n",
    "    \n",
    "    #Initialise an Integrator\n",
    "    hiss = noise.Additive(nsig=np.array([2 ** -10, ]))\n",
    "    heunint = integrators.HeunStochastic(dt=0.06103515625, noise=hiss) \n",
    "    \n",
    "    #Initialise a Monitor with period in physical time\n",
    "    what_to_watch = [monitors.TemporalAverage(period=0.48828125)]     # 2048Hz => period=1000.0/2048.0\n",
    "    \n",
    "    #Initialise a Simulator -- Model, Connectivity, Integrator, and Monitors.\n",
    "    sim = simulator.Simulator(model=oscillator, connectivity=white_matter,\n",
    "                              coupling=white_matter_coupling,\n",
    "                              integrator=heunint, monitors=what_to_watch)\n",
    "    \n",
    "    sim.configure()\n",
    "    \n",
    "    #Perform the simulation\n",
    "    tavg_data = []\n",
    "    tavg_time = []\n",
    "    LOG.info(\"Starting simulation...\")\n",
    "    for tavg in sim(simulation_length=16000):\n",
    "        if tavg is not None:\n",
    "            tavg_time.append(tavg[0][0])    # TODO:The first [0] is a hack for single monitor\n",
    "            tavg_data.append(tavg[0][1])    # TODO:The first [0] is a hack for single monitor\n",
    "    \n",
    "    LOG.info(\"Finished simulation.\")\n",
    "    \n",
    "    \n",
    "    ##----------------------------------------------------------------------------##\n",
    "    ##-                     Save the data to a file                              -##\n",
    "    ##----------------------------------------------------------------------------##\n",
    "    \n",
    "    #Make the list a numpy.array.\n",
    "    LOG.info(\"Converting result to array...\")\n",
    "    TAVG = np.array(tavg_data)\n",
    "    \n",
    "    #Save it\n",
    "    FILE_NAME = \"demo_data_region_16s_2048Hz.npy\"\n",
    "    LOG.info(\"Saving array to %s...\" % FILE_NAME)\n",
    "    np.save(FILE_NAME, TAVG)\n",
    "    \n",
    "    LOG.info(\"Done.\")"
   ]
  },
  {
   "cell_type": "code",
   "execution_count": 3,
   "id": "f8c8e88c",
   "metadata": {},
   "outputs": [
    {
     "name": "stdout",
     "output_type": "stream",
     "text": [
      "WARNING  File 'hemispheres' not found in ZIP.\n"
     ]
    }
   ],
   "source": [
    "generate_region_demo_data()"
   ]
  },
  {
   "cell_type": "code",
   "execution_count": 6,
   "id": "20efba28",
   "metadata": {},
   "outputs": [
    {
     "name": "stdout",
     "output_type": "stream",
     "text": [
      "WARNING  File 'hemispheres' not found in ZIP.\n"
     ]
    }
   ],
   "source": [
    "#Load the demo data\n",
    "data = np.load(\"demo_data_region_16s_2048Hz.npy\")\n",
    "period = 0.00048828125 #NOTE: Providing period in seconds\n",
    "\n",
    "#Create a TVB TimeSeries object\n",
    "import tvb.datatypes.time_series\n",
    "tsr = tvb.datatypes.time_series.TimeSeriesRegion()\n",
    "tsr.data = data\n",
    "tsr.sample_period = period\n",
    "tsr.sample_period_unit = 's'\n",
    "\n",
    "from tvb.datatypes.connectivity import Connectivity\n",
    "tsr.connectivity = Connectivity.from_file()\n",
    "\n",
    "\n",
    "#tsi = TimeSeriesInteractive(time_series=tsr)\n",
    "tsi = TimeSeriesInteractivePlotter(time_series=tsr)\n",
    "tsi.configure()"
   ]
  },
  {
   "cell_type": "code",
   "execution_count": 7,
   "id": "ec965b52",
   "metadata": {},
   "outputs": [
    {
     "data": {
      "application/vnd.jupyter.widget-view+json": {
       "model_id": "462c8cce006440129c8524700572641f",
       "version_major": 2,
       "version_minor": 0
      },
      "text/plain": [
       "GridBox(children=(Output(layout=Layout(border='solid 1px black', margin='3px 3px 3px 3px', padding='2px 2px 2p…"
      ]
     },
     "metadata": {},
     "output_type": "display_data"
    }
   ],
   "source": [
    "tsi.show()"
   ]
  },
  {
   "cell_type": "markdown",
   "id": "e33e8842",
   "metadata": {},
   "source": [
    "As you can see in the output above, the control panel consists of Window Length Slider, Time Series Viewer Control Buttons, Spacing slider and Space Label Selection checkboxes."
   ]
  },
  {
   "cell_type": "markdown",
   "id": "b87b7cd8",
   "metadata": {},
   "source": [
    "### Let's explore each functionality one by one"
   ]
  },
  {
   "cell_type": "markdown",
   "id": "999f1cc5",
   "metadata": {
    "jp-MarkdownHeadingCollapsed": true,
    "tags": []
   },
   "source": [
    "##### Space Label Selection Checkboxes\n",
    "\n",
    "<p>These checkboxes select/unselect the various space labels of the time series. Primary purpose of these checkboxes is to observe specific space labels clearly.</p>\n",
    "\n",
    "<p><b>Try it out yourself:</b> Unselect all labels and select rA1, rA2, rIA and rIP only.</p>"
   ]
  },
  {
   "cell_type": "markdown",
   "id": "f67f5f64",
   "metadata": {},
   "source": [
    "##### Window Length Slider\n",
    "\n",
    "<p>This slider determines the length of the window to observe the TimeSeries. The main use of this slider is to observe the small changes occuring in the Time Series in contrast to the overall waveform.</p>\n",
    "\n",
    "<p><b>Try it out yourself:</b> Change the window length to 2, to observe the timeseries clearly.</p>"
   ]
  },
  {
   "cell_type": "markdown",
   "id": "9b01a8d3",
   "metadata": {},
   "source": [
    "##### Spacing Slider\n",
    "\n",
    "<p>This slider alters the spacing between two time series.</p>\n",
    "\n",
    "<p><b>Try it out yourself:</b> Increase the spacing between different time series to 0.8 using the Spacing Slider.</p>"
   ]
  },
  {
   "cell_type": "markdown",
   "id": "00ce8884",
   "metadata": {},
   "source": [
    "##### Time Series Viewer Buttons\n",
    "\n",
    "These buttons help to navigate within the TimeSeries by moving the window by either 0.25 sec or 0.5 sec.\n",
    "- The '<' and '>' buttons step 0.25 sec backward and forward in time respectively.\n",
    "- The '<<' and '>>' buttons step 0.5 sec backward and forward in time respectively.\n",
    "- The '|<<' and '>>|' buttons navigate to the beginning and end of the TimeSeries respectively.\n",
    "\n",
    "<p><b>Try it out yourself:</b> Navigate forward in time and observe the Time Series.</p>"
   ]
  }
 ],
 "metadata": {
  "kernelspec": {
   "display_name": "Python 3",
   "language": "python",
   "name": "python3"
  },
  "language_info": {
   "codemirror_mode": {
    "name": "ipython",
    "version": 3
   },
   "file_extension": ".py",
   "mimetype": "text/x-python",
   "name": "python",
   "nbconvert_exporter": "python",
   "pygments_lexer": "ipython3",
   "version": "3.7.6"
  }
 },
 "nbformat": 4,
 "nbformat_minor": 5
}
