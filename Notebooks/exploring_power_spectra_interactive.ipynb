{
 "cells": [
  {
   "cell_type": "markdown",
   "id": "45b88068",
   "metadata": {},
   "source": [
    "## Power Spectra Interactive Tool"
   ]
  },
  {
   "cell_type": "markdown",
   "id": "e938e537",
   "metadata": {},
   "source": [
    "In this tutorial we will explore the different functionalities of Power Spectra Interactive Tool."
   ]
  },
  {
   "cell_type": "code",
   "execution_count": 4,
   "id": "03250d05",
   "metadata": {},
   "outputs": [],
   "source": [
    "%matplotlib widget\n",
    "from tvb.simulator.plot.power_spectra_interactive import PowerSpectraInteractive"
   ]
  },
  {
   "cell_type": "code",
   "execution_count": 5,
   "id": "20efba28",
   "metadata": {},
   "outputs": [
    {
     "name": "stdout",
     "output_type": "stream",
     "text": [
      "2022-05-13 14:26:00,404 - WARNING - tvb.basic.readers - File 'hemispheres' not found in ZIP.\n"
     ]
    }
   ],
   "source": [
    "#Load the demo data\n",
    "import numpy as np\n",
    "data = np.load(\"demo_data_region_16s_2048Hz.npy\")\n",
    "period = 0.00048828125 #NOTE: Providing period in seconds\n",
    "\n",
    "#Create a TVB TimeSeries object\n",
    "import tvb.datatypes.time_series\n",
    "tsr = tvb.datatypes.time_series.TimeSeriesRegion()\n",
    "tsr.data = data\n",
    "tsr.sample_period = period\n",
    "tsr.sample_period_unit = 's'\n",
    "\n",
    "\n",
    "from tvb.datatypes.connectivity import Connectivity\n",
    "tsr.connectivity = Connectivity.from_file()\n",
    "tsr.configure()\n",
    "\n",
    "psi = PowerSpectraInteractive(time_series=tsr)\n",
    "psi.configure()"
   ]
  },
  {
   "cell_type": "code",
   "execution_count": 6,
   "id": "ec965b52",
   "metadata": {},
   "outputs": [
    {
     "data": {
      "application/vnd.jupyter.widget-view+json": {
       "model_id": "f0baeea399f6412a8a27e2bd8a94de36",
       "version_major": 2,
       "version_minor": 0
      },
      "text/plain": [
       "GridBox(children=(Output(layout=Layout(border='solid 1px black', margin='3px 3px 3px 3px', padding='2px 2px 2p…"
      ]
     },
     "metadata": {},
     "output_type": "display_data"
    }
   ],
   "source": [
    "psi.show()"
   ]
  },
  {
   "cell_type": "markdown",
   "id": "e33e8842",
   "metadata": {},
   "source": [
    "As you can see in the output above, the control panel consists options to select Mode, State Variable, XY Axis Scale, Normalise, Windowing Function and Segment Length."
   ]
  },
  {
   "cell_type": "markdown",
   "id": "b87b7cd8",
   "metadata": {},
   "source": [
    "### Let's explore each functionality one by one"
   ]
  },
  {
   "cell_type": "markdown",
   "id": "9b01a8d3",
   "metadata": {},
   "source": [
    "##### XY Axis Scale Selector\n",
    "\n",
    "<p>These selectors toggle the scale of X and Y Axis between Linear Scale and Log Scale.</p>\n",
    "\n",
    "<p><b>Try it out yourself:</b> Toggle the Y Axis Scale from Log Scale to Linear Scale.</p>"
   ]
  },
  {
   "cell_type": "markdown",
   "id": "dc22fe45",
   "metadata": {},
   "source": [
    "##### Windowing Function Selector\n",
    "\n",
    "<p>User can choose the desired window function through this selector.</p>\n",
    "\n",
    "<p><b>Try it out yourself:</b> Select Hamming windowing function.</p>"
   ]
  },
  {
   "cell_type": "markdown",
   "id": "fcd43f91",
   "metadata": {},
   "source": [
    "##### Segment Length Selector\n",
    "\n",
    "<p>Select different segment lengths.</p>\n",
    "\n",
    "<p><b>Try it out yourself:</b> Select 1.0 as segment length</p>"
   ]
  },
  {
   "cell_type": "markdown",
   "id": "00ce8884",
   "metadata": {},
   "source": [
    "##### Normalise\n",
    "\n",
    "This selector allows to normalise the waveform.\n",
    "\n",
    "<p><b>Try it out yourself:</b> Normalise the waveform.</p>"
   ]
  },
  {
   "cell_type": "markdown",
   "id": "999f1cc5",
   "metadata": {},
   "source": [
    "##### Mode Selector\n",
    "\n",
    "<p>Select different mode.</p>"
   ]
  },
  {
   "cell_type": "markdown",
   "id": "f67f5f64",
   "metadata": {},
   "source": [
    "##### State Variable Selector\n",
    "\n",
    "<p>Select different State Variables.</p>"
   ]
  }
 ],
 "metadata": {
  "kernelspec": {
   "display_name": "Python 3 (ipykernel)",
   "language": "python",
   "name": "python3"
  },
  "language_info": {
   "codemirror_mode": {
    "name": "ipython",
    "version": 3
   },
   "file_extension": ".py",
   "mimetype": "text/x-python",
   "name": "python",
   "nbconvert_exporter": "python",
   "pygments_lexer": "ipython3",
   "version": "3.7.12"
  }
 },
 "nbformat": 4,
 "nbformat_minor": 5
}
